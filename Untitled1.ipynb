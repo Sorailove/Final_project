{
 "cells": [
  {
   "cell_type": "code",
   "execution_count": 15,
   "metadata": {},
   "outputs": [],
   "source": [
    "%matplotlib inline\n",
    "import matplotlib.pyplot as plt\n",
    "import numpy as np\n",
    "import pandas as pd"
   ]
  },
  {
   "cell_type": "code",
   "execution_count": null,
   "metadata": {},
   "outputs": [],
   "source": [
    "# In this project, we will use a regression line using a dataset from Facebook Stocks 2012 to 2018\n",
    "#  the regression line wil show corelation between the Stock opening VS Stock Closing."
   ]
  },
  {
   "cell_type": "code",
   "execution_count": 28,
   "metadata": {},
   "outputs": [
    {
     "data": {
      "text/plain": [
       "<bound method NDFrame.head of       Unnamed: 0        Open        High         Low       Close   Adj Close  \\\n",
       "0              0   27.200001   27.650000   26.440001   26.900000   26.900000   \n",
       "1              1   26.700001   27.760000   25.750000   25.870001   25.870001   \n",
       "2              2   26.070000   27.170000   25.520000   26.809999   26.809999   \n",
       "3              3   27.000000   27.350000   26.150000   26.309999   26.309999   \n",
       "4              4   26.549999   27.760000   26.440001   27.100000   27.100000   \n",
       "5              5   27.180000   28.070000   26.840000   27.010000   27.010000   \n",
       "6              6   27.480000   27.770000   26.959999   27.400000   27.400000   \n",
       "7              7   27.660000   28.100000   27.100000   27.270000   27.270000   \n",
       "8              8   27.650000   28.320000   27.379999   28.290001   28.290001   \n",
       "9              9   28.510000   30.100000   28.350000   30.010000   30.010000   \n",
       "10            10   29.959999   32.080002   29.410000   31.410000   31.410000   \n",
       "11            11   31.540001   32.180000   30.700001   31.910000   31.910000   \n",
       "12            12   31.920000   31.930000   31.150000   31.600000   31.600000   \n",
       "13            13   31.670000   32.500000   31.510000   31.840000   31.840000   \n",
       "14            14   32.410000   33.450001   32.060001   33.049999   33.049999   \n",
       "15            15   32.860001   33.020000   31.549999   32.060001   32.060001   \n",
       "16            16   32.689999   33.439999   32.500000   33.099998   33.099998   \n",
       "17            17   32.459999   32.900002   31.900000   32.230000   32.230000   \n",
       "18            18   31.959999   32.189999   30.900000   31.360001   31.360001   \n",
       "19            19   31.920000   31.990000   30.760000   31.100000   31.100000   \n",
       "20            20   31.250000   31.730000   30.549999   30.770000   30.770000   \n",
       "21            21   30.910000   31.440001   30.799999   31.200001   31.200001   \n",
       "22            22   31.320000   31.629999   31.020000   31.469999   31.469999   \n",
       "23            23   31.440001   31.900000   31.260000   31.730000   31.730000   \n",
       "24            24   32.099998   32.880001   31.990000   32.169998   32.169998   \n",
       "25            25   32.430000   32.480000   31.160000   31.469999   31.469999   \n",
       "26            26   31.480000   31.559999   30.549999   30.969999   30.969999   \n",
       "27            27   30.700001   31.400000   30.600000   30.809999   30.809999   \n",
       "28            28   31.040001   31.070000   30.559999   30.719999   30.719999   \n",
       "29            29   30.500000   30.500000   28.209999   28.250000   28.250000   \n",
       "...          ...         ...         ...         ...         ...         ...   \n",
       "1615        1615  151.520004  152.750000  149.350006  151.750000  151.750000   \n",
       "1616        1616  151.800003  154.130005  148.960007  150.350006  150.350006   \n",
       "1617        1617  150.100006  150.190002  147.440002  148.679993  148.679993   \n",
       "1618        1618  149.309998  150.970001  148.000000  149.940002  149.940002   \n",
       "1619        1619  151.570007  153.009995  149.830002  151.529999  151.529999   \n",
       "1620        1620  150.490005  150.940002  146.740005  147.869995  147.869995   \n",
       "1621        1621  146.750000  147.759995  144.070007  144.960007  144.960007   \n",
       "1622        1622  144.479996  145.039993  140.490005  141.550003  141.550003   \n",
       "1623        1623  142.000000  144.880005  141.619995  142.160004  142.160004   \n",
       "1624        1624  143.699997  145.580002  141.550003  144.220001  144.220001   \n",
       "1625        1625  142.330002  144.839996  140.830002  143.850006  143.850006   \n",
       "1626        1626  141.070007  141.770004  137.770004  139.529999  139.529999   \n",
       "1627        1627  137.610001  137.750000  131.210007  131.550003  131.550003   \n",
       "1628        1628  127.029999  134.160004  126.849998  132.429993  132.429993   \n",
       "1629        1629  134.399994  137.190002  134.130005  134.820007  134.820007   \n",
       "1630        1630  133.649994  134.500000  131.259995  131.729996  131.729996   \n",
       "1631        1631  133.000000  137.000000  132.779999  136.380005  136.380005   \n",
       "1632        1632  135.750000  136.610001  133.710007  135.000000  135.000000   \n",
       "1633        1633  136.279999  136.789993  131.850006  136.759995  136.759995   \n",
       "1634        1634  135.919998  139.990005  135.660004  138.679993  138.679993   \n",
       "1635        1635  138.259995  140.970001  137.360001  140.610001  140.610001   \n",
       "1636        1636  143.000000  143.679993  140.759995  141.089996  141.089996   \n",
       "1637        1637  140.729996  143.389999  137.160004  137.929993  137.929993   \n",
       "1638        1638  133.820007  139.699997  133.669998  139.630005  139.630005   \n",
       "1639        1639  139.250000  140.869995  136.660004  137.419998  137.419998   \n",
       "1640        1640  139.600006  143.050003  139.009995  141.850006  141.850006   \n",
       "1641        1641  143.880005  143.880005  141.100006  142.080002  142.080002   \n",
       "1642        1642  143.080002  147.190002  142.509995  144.500000  144.500000   \n",
       "1643        1643  145.570007  145.850006  143.190002  145.009995  145.009995   \n",
       "1644        1644  143.339996  146.009995  142.509995  144.059998  144.059998   \n",
       "\n",
       "        Volume  ReturnsRawPrev1  ReturnsRawPrev5  ReturnsRawPrev10  ...  Day  \\\n",
       "0     35230300        -0.029581        -0.157004         -0.296364  ...    4   \n",
       "1     42473400        -0.038290        -0.102982         -0.239788  ...    5   \n",
       "2     61489200         0.036335        -0.048954         -0.135161  ...    6   \n",
       "3     26159500        -0.018650        -0.111149         -0.177813  ...    7   \n",
       "4     38034000         0.030027        -0.022366         -0.179534  ...    8   \n",
       "5     28219600        -0.003321         0.004089         -0.153557  ...   11   \n",
       "6     15816800         0.014439         0.059142         -0.049931  ...   12   \n",
       "7     17102800        -0.004745         0.017158         -0.032636  ...   13   \n",
       "8     16855000         0.037404         0.075257         -0.044257  ...   14   \n",
       "9     43563800         0.060799         0.107380          0.082612  ...   15   \n",
       "10    42978900         0.046651         0.162903          0.167658  ...   18   \n",
       "11    30849000         0.015918         0.164599          0.233475  ...   19   \n",
       "12    15553600        -0.009715         0.158783          0.178665  ...   20   \n",
       "13    21875300         0.007595         0.125486          0.210186  ...   21   \n",
       "14    74834000         0.038002         0.101300          0.219557  ...   22   \n",
       "15    24352900        -0.029955         0.020694          0.186968  ...   25   \n",
       "16    24858700         0.032439         0.037292          0.208029  ...   26   \n",
       "17    28568000        -0.026284         0.019937          0.181885  ...   27   \n",
       "18    17713300        -0.026993        -0.015075          0.108519  ...   28   \n",
       "19    19526900        -0.008291        -0.059001          0.036321  ...   29   \n",
       "20    14122000        -0.010611        -0.040237         -0.020376  ...    2   \n",
       "21     8763600         0.013975        -0.057402         -0.022250  ...    3   \n",
       "22    10032100         0.008654        -0.023581         -0.004114  ...    5   \n",
       "23    10945600         0.008262         0.011798         -0.003455  ...    6   \n",
       "24    17785200         0.013867         0.034405         -0.026626  ...    9   \n",
       "25    14269500        -0.021759         0.022749         -0.018403  ...   10   \n",
       "26    13030300        -0.015888        -0.007372         -0.064350  ...   11   \n",
       "27    11300700        -0.005166        -0.020972         -0.044058  ...   12   \n",
       "28     8108300        -0.002921        -0.031831         -0.020408  ...   13   \n",
       "29    24672100        -0.080404        -0.121853         -0.091640  ...   16   \n",
       "...        ...              ...              ...               ...  ...  ...   \n",
       "1615  25640800        -0.000263         0.005300         -0.020462  ...    1   \n",
       "1616  24708700        -0.009226         0.034257         -0.024018  ...    2   \n",
       "1617  15971200        -0.011108         0.046379         -0.039411  ...    5   \n",
       "1618  16667100         0.008475         0.025441         -0.028823  ...    6   \n",
       "1619  21877400         0.010604        -0.001713          0.037592  ...    7   \n",
       "1620  24145800        -0.024154        -0.025568         -0.020404  ...    8   \n",
       "1621  17326900        -0.019679        -0.035850         -0.002820  ...    9   \n",
       "1622  18542100        -0.023524        -0.047955         -0.003800  ...   12   \n",
       "1623  15141700         0.004309        -0.051887         -0.027766  ...   13   \n",
       "1624  22068400         0.014491        -0.048241         -0.049871  ...   14   \n",
       "1625  30320300        -0.002565        -0.027186         -0.052059  ...   15   \n",
       "1626  37250600        -0.030031        -0.037459         -0.071965  ...   16   \n",
       "1627  44362700        -0.057192        -0.070646         -0.115214  ...   19   \n",
       "1628  41939500         0.006689        -0.068444         -0.116780  ...   20   \n",
       "1629  25469700         0.018047        -0.065178         -0.110275  ...   21   \n",
       "1630  11886100        -0.022920        -0.084254         -0.109150  ...   23   \n",
       "1631  24263600         0.035300        -0.022576         -0.059189  ...   26   \n",
       "1632  20750300        -0.010119         0.026226         -0.046273  ...   27   \n",
       "1633  29847500         0.013037         0.032697         -0.037985  ...   28   \n",
       "1634  24238700         0.014039         0.028631         -0.038414  ...   29   \n",
       "1635  25732600         0.013917         0.067411         -0.022523  ...   30   \n",
       "1636  24819200         0.003414         0.034536          0.011180  ...    3   \n",
       "1637  30307400        -0.022397         0.021704          0.048499  ...    4   \n",
       "1638  28218100         0.012325         0.020986          0.054368  ...    6   \n",
       "1639  21195500        -0.015828        -0.009086          0.019285  ...    7   \n",
       "1640  26422200         0.032237         0.008819          0.076824  ...   10   \n",
       "1641  20300300         0.001621         0.007017          0.041795  ...   11   \n",
       "1642  23696900         0.017033         0.047633          0.070370  ...   12   \n",
       "1643  18148600         0.003529         0.038530          0.060325  ...   13   \n",
       "1644  21785800        -0.006551         0.048319          0.038794  ...   14   \n",
       "\n",
       "      Dayofweek  Dayofyear  Is_month_end  Is_month_start  Is_quarter_end  \\\n",
       "0             0        156         False           False           False   \n",
       "1             1        157         False           False           False   \n",
       "2             2        158         False           False           False   \n",
       "3             3        159         False           False           False   \n",
       "4             4        160         False           False           False   \n",
       "5             0        163         False           False           False   \n",
       "6             1        164         False           False           False   \n",
       "7             2        165         False           False           False   \n",
       "8             3        166         False           False           False   \n",
       "9             4        167         False           False           False   \n",
       "10            0        170         False           False           False   \n",
       "11            1        171         False           False           False   \n",
       "12            2        172         False           False           False   \n",
       "13            3        173         False           False           False   \n",
       "14            4        174         False           False           False   \n",
       "15            0        177         False           False           False   \n",
       "16            1        178         False           False           False   \n",
       "17            2        179         False           False           False   \n",
       "18            3        180         False           False           False   \n",
       "19            4        181         False           False           False   \n",
       "20            0        184         False           False           False   \n",
       "21            1        185         False           False           False   \n",
       "22            3        187         False           False           False   \n",
       "23            4        188         False           False           False   \n",
       "24            0        191         False           False           False   \n",
       "25            1        192         False           False           False   \n",
       "26            2        193         False           False           False   \n",
       "27            3        194         False           False           False   \n",
       "28            4        195         False           False           False   \n",
       "29            0        198         False           False           False   \n",
       "...         ...        ...           ...             ...             ...   \n",
       "1615          3        305         False            True           False   \n",
       "1616          4        306         False           False           False   \n",
       "1617          0        309         False           False           False   \n",
       "1618          1        310         False           False           False   \n",
       "1619          2        311         False           False           False   \n",
       "1620          3        312         False           False           False   \n",
       "1621          4        313         False           False           False   \n",
       "1622          0        316         False           False           False   \n",
       "1623          1        317         False           False           False   \n",
       "1624          2        318         False           False           False   \n",
       "1625          3        319         False           False           False   \n",
       "1626          4        320         False           False           False   \n",
       "1627          0        323         False           False           False   \n",
       "1628          1        324         False           False           False   \n",
       "1629          2        325         False           False           False   \n",
       "1630          4        327         False           False           False   \n",
       "1631          0        330         False           False           False   \n",
       "1632          1        331         False           False           False   \n",
       "1633          2        332         False           False           False   \n",
       "1634          3        333         False           False           False   \n",
       "1635          4        334          True           False           False   \n",
       "1636          0        337         False           False           False   \n",
       "1637          1        338         False           False           False   \n",
       "1638          3        340         False           False           False   \n",
       "1639          4        341         False           False           False   \n",
       "1640          0        344         False           False           False   \n",
       "1641          1        345         False           False           False   \n",
       "1642          2        346         False           False           False   \n",
       "1643          3        347         False           False           False   \n",
       "1644          4        348         False           False           False   \n",
       "\n",
       "      Is_quarter_start  Is_year_end  Is_year_start     Elapsed  \n",
       "0                False        False          False  1338768000  \n",
       "1                False        False          False  1338854400  \n",
       "2                False        False          False  1338940800  \n",
       "3                False        False          False  1339027200  \n",
       "4                False        False          False  1339113600  \n",
       "5                False        False          False  1339372800  \n",
       "6                False        False          False  1339459200  \n",
       "7                False        False          False  1339545600  \n",
       "8                False        False          False  1339632000  \n",
       "9                False        False          False  1339718400  \n",
       "10               False        False          False  1339977600  \n",
       "11               False        False          False  1340064000  \n",
       "12               False        False          False  1340150400  \n",
       "13               False        False          False  1340236800  \n",
       "14               False        False          False  1340323200  \n",
       "15               False        False          False  1340582400  \n",
       "16               False        False          False  1340668800  \n",
       "17               False        False          False  1340755200  \n",
       "18               False        False          False  1340841600  \n",
       "19               False        False          False  1340928000  \n",
       "20               False        False          False  1341187200  \n",
       "21               False        False          False  1341273600  \n",
       "22               False        False          False  1341446400  \n",
       "23               False        False          False  1341532800  \n",
       "24               False        False          False  1341792000  \n",
       "25               False        False          False  1341878400  \n",
       "26               False        False          False  1341964800  \n",
       "27               False        False          False  1342051200  \n",
       "28               False        False          False  1342137600  \n",
       "29               False        False          False  1342396800  \n",
       "...                ...          ...            ...         ...  \n",
       "1615             False        False          False  1541030400  \n",
       "1616             False        False          False  1541116800  \n",
       "1617             False        False          False  1541376000  \n",
       "1618             False        False          False  1541462400  \n",
       "1619             False        False          False  1541548800  \n",
       "1620             False        False          False  1541635200  \n",
       "1621             False        False          False  1541721600  \n",
       "1622             False        False          False  1541980800  \n",
       "1623             False        False          False  1542067200  \n",
       "1624             False        False          False  1542153600  \n",
       "1625             False        False          False  1542240000  \n",
       "1626             False        False          False  1542326400  \n",
       "1627             False        False          False  1542585600  \n",
       "1628             False        False          False  1542672000  \n",
       "1629             False        False          False  1542758400  \n",
       "1630             False        False          False  1542931200  \n",
       "1631             False        False          False  1543190400  \n",
       "1632             False        False          False  1543276800  \n",
       "1633             False        False          False  1543363200  \n",
       "1634             False        False          False  1543449600  \n",
       "1635             False        False          False  1543536000  \n",
       "1636             False        False          False  1543795200  \n",
       "1637             False        False          False  1543881600  \n",
       "1638             False        False          False  1544054400  \n",
       "1639             False        False          False  1544140800  \n",
       "1640             False        False          False  1544400000  \n",
       "1641             False        False          False  1544486400  \n",
       "1642             False        False          False  1544572800  \n",
       "1643             False        False          False  1544659200  \n",
       "1644             False        False          False  1544745600  \n",
       "\n",
       "[1645 rows x 26 columns]>"
      ]
     },
     "execution_count": 28,
     "metadata": {},
     "output_type": "execute_result"
    }
   ],
   "source": [
    "# Read CVS file\n",
    "data=pd.read_csv(r'C:\\DataVisualization\\Project\\3.Netflix\\fb.csv')\n",
    "data.head                 "
   ]
  },
  {
   "cell_type": "code",
   "execution_count": 55,
   "metadata": {},
   "outputs": [
    {
     "data": {
      "text/html": [
       "<div>\n",
       "<style scoped>\n",
       "    .dataframe tbody tr th:only-of-type {\n",
       "        vertical-align: middle;\n",
       "    }\n",
       "\n",
       "    .dataframe tbody tr th {\n",
       "        vertical-align: top;\n",
       "    }\n",
       "\n",
       "    .dataframe thead th {\n",
       "        text-align: right;\n",
       "    }\n",
       "</style>\n",
       "<table border=\"1\" class=\"dataframe\">\n",
       "  <thead>\n",
       "    <tr style=\"text-align: right;\">\n",
       "      <th></th>\n",
       "      <th>Unnamed: 0</th>\n",
       "      <th>Open</th>\n",
       "      <th>High</th>\n",
       "      <th>Low</th>\n",
       "      <th>Close</th>\n",
       "      <th>Adj Close</th>\n",
       "      <th>Volume</th>\n",
       "      <th>ReturnsRawPrev1</th>\n",
       "      <th>ReturnsRawPrev5</th>\n",
       "      <th>ReturnsRawPrev10</th>\n",
       "      <th>...</th>\n",
       "      <th>Day</th>\n",
       "      <th>Dayofweek</th>\n",
       "      <th>Dayofyear</th>\n",
       "      <th>Is_month_end</th>\n",
       "      <th>Is_month_start</th>\n",
       "      <th>Is_quarter_end</th>\n",
       "      <th>Is_quarter_start</th>\n",
       "      <th>Is_year_end</th>\n",
       "      <th>Is_year_start</th>\n",
       "      <th>Elapsed</th>\n",
       "    </tr>\n",
       "  </thead>\n",
       "  <tbody>\n",
       "    <tr>\n",
       "      <th>0</th>\n",
       "      <td>0</td>\n",
       "      <td>27.200001</td>\n",
       "      <td>27.65</td>\n",
       "      <td>26.440001</td>\n",
       "      <td>26.900000</td>\n",
       "      <td>26.900000</td>\n",
       "      <td>35230300</td>\n",
       "      <td>-0.029581</td>\n",
       "      <td>-0.157004</td>\n",
       "      <td>-0.296364</td>\n",
       "      <td>...</td>\n",
       "      <td>4</td>\n",
       "      <td>0</td>\n",
       "      <td>156</td>\n",
       "      <td>False</td>\n",
       "      <td>False</td>\n",
       "      <td>False</td>\n",
       "      <td>False</td>\n",
       "      <td>False</td>\n",
       "      <td>False</td>\n",
       "      <td>1338768000</td>\n",
       "    </tr>\n",
       "    <tr>\n",
       "      <th>1</th>\n",
       "      <td>1</td>\n",
       "      <td>26.700001</td>\n",
       "      <td>27.76</td>\n",
       "      <td>25.750000</td>\n",
       "      <td>25.870001</td>\n",
       "      <td>25.870001</td>\n",
       "      <td>42473400</td>\n",
       "      <td>-0.038290</td>\n",
       "      <td>-0.102982</td>\n",
       "      <td>-0.239788</td>\n",
       "      <td>...</td>\n",
       "      <td>5</td>\n",
       "      <td>1</td>\n",
       "      <td>157</td>\n",
       "      <td>False</td>\n",
       "      <td>False</td>\n",
       "      <td>False</td>\n",
       "      <td>False</td>\n",
       "      <td>False</td>\n",
       "      <td>False</td>\n",
       "      <td>1338854400</td>\n",
       "    </tr>\n",
       "    <tr>\n",
       "      <th>2</th>\n",
       "      <td>2</td>\n",
       "      <td>26.070000</td>\n",
       "      <td>27.17</td>\n",
       "      <td>25.520000</td>\n",
       "      <td>26.809999</td>\n",
       "      <td>26.809999</td>\n",
       "      <td>61489200</td>\n",
       "      <td>0.036335</td>\n",
       "      <td>-0.048954</td>\n",
       "      <td>-0.135161</td>\n",
       "      <td>...</td>\n",
       "      <td>6</td>\n",
       "      <td>2</td>\n",
       "      <td>158</td>\n",
       "      <td>False</td>\n",
       "      <td>False</td>\n",
       "      <td>False</td>\n",
       "      <td>False</td>\n",
       "      <td>False</td>\n",
       "      <td>False</td>\n",
       "      <td>1338940800</td>\n",
       "    </tr>\n",
       "    <tr>\n",
       "      <th>3</th>\n",
       "      <td>3</td>\n",
       "      <td>27.000000</td>\n",
       "      <td>27.35</td>\n",
       "      <td>26.150000</td>\n",
       "      <td>26.309999</td>\n",
       "      <td>26.309999</td>\n",
       "      <td>26159500</td>\n",
       "      <td>-0.018650</td>\n",
       "      <td>-0.111149</td>\n",
       "      <td>-0.177813</td>\n",
       "      <td>...</td>\n",
       "      <td>7</td>\n",
       "      <td>3</td>\n",
       "      <td>159</td>\n",
       "      <td>False</td>\n",
       "      <td>False</td>\n",
       "      <td>False</td>\n",
       "      <td>False</td>\n",
       "      <td>False</td>\n",
       "      <td>False</td>\n",
       "      <td>1339027200</td>\n",
       "    </tr>\n",
       "    <tr>\n",
       "      <th>4</th>\n",
       "      <td>4</td>\n",
       "      <td>26.549999</td>\n",
       "      <td>27.76</td>\n",
       "      <td>26.440001</td>\n",
       "      <td>27.100000</td>\n",
       "      <td>27.100000</td>\n",
       "      <td>38034000</td>\n",
       "      <td>0.030027</td>\n",
       "      <td>-0.022366</td>\n",
       "      <td>-0.179534</td>\n",
       "      <td>...</td>\n",
       "      <td>8</td>\n",
       "      <td>4</td>\n",
       "      <td>160</td>\n",
       "      <td>False</td>\n",
       "      <td>False</td>\n",
       "      <td>False</td>\n",
       "      <td>False</td>\n",
       "      <td>False</td>\n",
       "      <td>False</td>\n",
       "      <td>1339113600</td>\n",
       "    </tr>\n",
       "  </tbody>\n",
       "</table>\n",
       "<p>5 rows × 26 columns</p>\n",
       "</div>"
      ],
      "text/plain": [
       "   Unnamed: 0       Open   High        Low      Close  Adj Close    Volume  \\\n",
       "0           0  27.200001  27.65  26.440001  26.900000  26.900000  35230300   \n",
       "1           1  26.700001  27.76  25.750000  25.870001  25.870001  42473400   \n",
       "2           2  26.070000  27.17  25.520000  26.809999  26.809999  61489200   \n",
       "3           3  27.000000  27.35  26.150000  26.309999  26.309999  26159500   \n",
       "4           4  26.549999  27.76  26.440001  27.100000  27.100000  38034000   \n",
       "\n",
       "   ReturnsRawPrev1  ReturnsRawPrev5  ReturnsRawPrev10  ...  Day  Dayofweek  \\\n",
       "0        -0.029581        -0.157004         -0.296364  ...    4          0   \n",
       "1        -0.038290        -0.102982         -0.239788  ...    5          1   \n",
       "2         0.036335        -0.048954         -0.135161  ...    6          2   \n",
       "3        -0.018650        -0.111149         -0.177813  ...    7          3   \n",
       "4         0.030027        -0.022366         -0.179534  ...    8          4   \n",
       "\n",
       "   Dayofyear  Is_month_end  Is_month_start  Is_quarter_end  Is_quarter_start  \\\n",
       "0        156         False           False           False             False   \n",
       "1        157         False           False           False             False   \n",
       "2        158         False           False           False             False   \n",
       "3        159         False           False           False             False   \n",
       "4        160         False           False           False             False   \n",
       "\n",
       "   Is_year_end  Is_year_start     Elapsed  \n",
       "0        False          False  1338768000  \n",
       "1        False          False  1338854400  \n",
       "2        False          False  1338940800  \n",
       "3        False          False  1339027200  \n",
       "4        False          False  1339113600  \n",
       "\n",
       "[5 rows x 26 columns]"
      ]
     },
     "execution_count": 55,
     "metadata": {},
     "output_type": "execute_result"
    }
   ],
   "source": [
    "# Panda DataFrame\n",
    "data.head()     "
   ]
  },
  {
   "cell_type": "code",
   "execution_count": 57,
   "metadata": {},
   "outputs": [
    {
     "data": {
      "text/plain": [
       "Index(['Unnamed: 0', 'Open', 'High', 'Low', 'Close', 'Adj Close', 'Volume',\n",
       "       'ReturnsRawPrev1', 'ReturnsRawPrev5', 'ReturnsRawPrev10',\n",
       "       'ReturnsRawFut1', 'ReturnsRawFut5', 'ReturnsRawFut10', 'Year', 'Month',\n",
       "       'Week', 'Day', 'Dayofweek', 'Dayofyear', 'Is_month_end',\n",
       "       'Is_month_start', 'Is_quarter_end', 'Is_quarter_start', 'Is_year_end',\n",
       "       'Is_year_start', 'Elapsed'],\n",
       "      dtype='object')"
      ]
     },
     "execution_count": 57,
     "metadata": {},
     "output_type": "execute_result"
    }
   ],
   "source": [
    "# fb_data columns\n",
    "data.columns"
   ]
  },
  {
   "cell_type": "code",
   "execution_count": 30,
   "metadata": {},
   "outputs": [],
   "source": [
    "# Drop all data columns except the Open & Close for the purpose of the project\n",
    "new_data = data [['Open', 'Close']]"
   ]
  },
  {
   "cell_type": "code",
   "execution_count": 33,
   "metadata": {},
   "outputs": [],
   "source": [
    "# NA columns dropped\n",
    "drop_na_df = new_data.dropna()"
   ]
  },
  {
   "cell_type": "code",
   "execution_count": 35,
   "metadata": {},
   "outputs": [
    {
     "data": {
      "text/html": [
       "<div>\n",
       "<style scoped>\n",
       "    .dataframe tbody tr th:only-of-type {\n",
       "        vertical-align: middle;\n",
       "    }\n",
       "\n",
       "    .dataframe tbody tr th {\n",
       "        vertical-align: top;\n",
       "    }\n",
       "\n",
       "    .dataframe thead th {\n",
       "        text-align: right;\n",
       "    }\n",
       "</style>\n",
       "<table border=\"1\" class=\"dataframe\">\n",
       "  <thead>\n",
       "    <tr style=\"text-align: right;\">\n",
       "      <th></th>\n",
       "      <th>Open</th>\n",
       "      <th>Close</th>\n",
       "    </tr>\n",
       "  </thead>\n",
       "  <tbody>\n",
       "    <tr>\n",
       "      <th>0</th>\n",
       "      <td>27.200001</td>\n",
       "      <td>26.900000</td>\n",
       "    </tr>\n",
       "    <tr>\n",
       "      <th>1</th>\n",
       "      <td>26.700001</td>\n",
       "      <td>25.870001</td>\n",
       "    </tr>\n",
       "    <tr>\n",
       "      <th>2</th>\n",
       "      <td>26.070000</td>\n",
       "      <td>26.809999</td>\n",
       "    </tr>\n",
       "    <tr>\n",
       "      <th>3</th>\n",
       "      <td>27.000000</td>\n",
       "      <td>26.309999</td>\n",
       "    </tr>\n",
       "    <tr>\n",
       "      <th>4</th>\n",
       "      <td>26.549999</td>\n",
       "      <td>27.100000</td>\n",
       "    </tr>\n",
       "  </tbody>\n",
       "</table>\n",
       "</div>"
      ],
      "text/plain": [
       "        Open      Close\n",
       "0  27.200001  26.900000\n",
       "1  26.700001  25.870001\n",
       "2  26.070000  26.809999\n",
       "3  27.000000  26.309999\n",
       "4  26.549999  27.100000"
      ]
     },
     "execution_count": 35,
     "metadata": {},
     "output_type": "execute_result"
    }
   ],
   "source": [
    "#DF for Open & close\n",
    "new_data.head()"
   ]
  },
  {
   "cell_type": "code",
   "execution_count": 37,
   "metadata": {},
   "outputs": [
    {
     "name": "stdout",
     "output_type": "stream",
     "text": [
      "shape:  (1645, 1) (1645, 1)\n"
     ]
    },
    {
     "data": {
      "text/plain": [
       "array([[ 27.200001],\n",
       "       [ 26.700001],\n",
       "       [ 26.07    ],\n",
       "       ...,\n",
       "       [143.080002],\n",
       "       [145.570007],\n",
       "       [143.339996]])"
      ]
     },
     "execution_count": 37,
     "metadata": {},
     "output_type": "execute_result"
    }
   ],
   "source": [
    "#Assign the data to X and Y\n",
    "#Note: Skleanrn requires a two-dimensional arra of values\n",
    "#reshape to create\n",
    "\n",
    "x = new_data.Open.values.reshape(-1, 1)\n",
    "y = new_data.Close.values.reshape(-1, 1)\n",
    "\n",
    "print(\"shape: \", x.shape, y.shape)\n",
    "x"
   ]
  },
  {
   "cell_type": "code",
   "execution_count": 39,
   "metadata": {},
   "outputs": [
    {
     "data": {
      "text/plain": [
       "<matplotlib.collections.PathCollection at 0x148b57e2278>"
      ]
     },
     "execution_count": 39,
     "metadata": {},
     "output_type": "execute_result"
    },
    {
     "data": {
      "image/png": "[encoded data removed]",
      "text/plain": [
       "<Figure size 432x288 with 1 Axes>"
      ]
     },
     "metadata": {
      "needs_background": "light"
     },
     "output_type": "display_data"
    }
   ],
   "source": [
    "# Plot the data\n",
    "\n",
    "### BEGIN SOLUTION\n",
    "\n",
    "plt.scatter(x, y)\n",
    "\n",
    "### END SOLUTION"
   ]
  },
  {
   "cell_type": "code",
   "execution_count": 40,
   "metadata": {},
   "outputs": [],
   "source": [
    "# Create the model and fit the model to the data\n",
    "\n",
    "from sklearn.linear_model import LinearRegression\n",
    "\n",
    "### BEGIN SOLUTION\n",
    "\n",
    "model = LinearRegression()\n",
    "\n",
    "### END SOLUTION"
   ]
  },
  {
   "cell_type": "code",
   "execution_count": 42,
   "metadata": {},
   "outputs": [
    {
     "data": {
      "text/plain": [
       "LinearRegression(copy_X=True, fit_intercept=True, n_jobs=None,\n",
       "         normalize=False)"
      ]
     },
     "execution_count": 42,
     "metadata": {},
     "output_type": "execute_result"
    }
   ],
   "source": [
    "# Fit the model to the data. \n",
    "\n",
    "### BEGIN SOLUTION\n",
    "\n",
    "model.fit(x, y)\n",
    "\n",
    "### END SOLUTION"
   ]
  },
  {
   "cell_type": "code",
   "execution_count": 43,
   "metadata": {},
   "outputs": [
    {
     "name": "stdout",
     "output_type": "stream",
     "text": [
      "Weight coefficients:  [[1.00037152]]\n",
      "y-axis intercept:  [-0.01917407]\n"
     ]
    }
   ],
   "source": [
    "# Print the coefficient and the intercept for the model\n",
    "\n",
    "### BEGIN SOLUTION\n",
    "print('Weight coefficients: ', model.coef_)\n",
    "print('y-axis intercept: ', model.intercept_)\n",
    "### END SOLUTION"
   ]
  },
  {
   "cell_type": "code",
   "execution_count": 49,
   "metadata": {},
   "outputs": [
    {
     "name": "stdout",
     "output_type": "stream",
     "text": [
      "Min X Value: [[18.08]]\n",
      "Max X Value: [[215.720001]]\n"
     ]
    }
   ],
   "source": [
    "# Note: we have to transform our min and max values \n",
    "# so they are in the format: array([[ 1.17]])\n",
    "# This is the required format for `model.predict()`\n",
    "\n",
    "x_min = np.array([[x.min()]])\n",
    "x_max = np.array([[x.max()]])\n",
    "print(f\"Min X Value: {x_min}\")\n",
    "print(f\"Max X Value: {x_max}\")"
   ]
  },
  {
   "cell_type": "code",
   "execution_count": 52,
   "metadata": {},
   "outputs": [],
   "source": [
    "# Calculate the y_min and y_max using model.predict and x_min and x_max\n",
    "\n",
    "### BEGIN SOLUTION\n",
    "y_min = model.predict(x_min)\n",
    "y_max = model.predict(x_max)\n",
    "### END SOLUTION"
   ]
  },
  {
   "cell_type": "code",
   "execution_count": 62,
   "metadata": {},
   "outputs": [
    {
     "data": {
      "text/plain": [
       "[<matplotlib.lines.Line2D at 0x148b7d39898>]"
      ]
     },
     "execution_count": 62,
     "metadata": {},
     "output_type": "execute_result"
    },
    {
     "data": {
      "image/png": "[encoded data removed]",
      "text/plain": [
       "<Figure size 432x288 with 1 Axes>"
      ]
     },
     "metadata": {
      "needs_background": "light"
     },
     "output_type": "display_data"
    }
   ],
   "source": [
    "# Plot X and y using plt.scatter\n",
    "# Plot the model fit line using [x_min[0], x_max[0]], [y_min[0], y_max[0]]\n",
    "\n",
    "### BEGIN SOLUTION\n",
    "plt.scatter(x, y, c='orange')\n",
    "plt.plot([x_min[0], x_max[0]], [y_min[0], y_max[0]], c='blue')\n",
    "### END SOLUTION"
   ]
  },
  {
   "cell_type": "code",
   "execution_count": 60,
   "metadata": {},
   "outputs": [],
   "source": [
    "# Use train_test_split to create training and testing data\n",
    "\n",
    "### BEGIN SOLUTION\n",
    "from sklearn.model_selection import train_test_split\n",
    "\n",
    "x_train, x_test, y_train, y_test = train_test_split(x, y, random_state=42)\n",
    "\n",
    "### END SOLUTION"
   ]
  },
  {
   "cell_type": "code",
   "execution_count": 61,
   "metadata": {},
   "outputs": [
    {
     "data": {
      "text/plain": [
       "Text(0.5, 1.0, 'Residual Plot')"
      ]
     },
     "execution_count": 61,
     "metadata": {},
     "output_type": "execute_result"
    },
    {
     "data": {
      "image/png": "[encoded data removed]",
      "text/plain": [
       "<Figure size 432x288 with 1 Axes>"
      ]
     },
     "metadata": {
      "needs_background": "light"
     },
     "output_type": "display_data"
    }
   ],
   "source": [
    "# Plot the Residuals for the Training and Testing data\n",
    "\n",
    "### BEGIN SOLUTION\n",
    "plt.scatter(model.predict(x_train), model.predict(x_train) - y_train, c=\"blue\", label=\"Training Data\")\n",
    "plt.scatter(model.predict(x_test), model.predict(x_test) - y_test, c=\"orange\", label=\"Testing Data\")\n",
    "plt.legend()\n",
    "plt.hlines(y=0, xmin=y.min(), xmax=y.max())\n",
    "plt.title(\"Residual Plot\")\n",
    "### END SOLUTION"
   ]
  },
  {
   "cell_type": "code",
   "execution_count": null,
   "metadata": {},
   "outputs": [],
   "source": []
  }
 ],
 "metadata": {
  "kernelspec": {
   "display_name": "Python 3",
   "language": "python",
   "name": "python3"
  },
  "language_info": {
   "codemirror_mode": {
    "name": "ipython",
    "version": 3
   },
   "file_extension": ".py",
   "mimetype": "text/x-python",
   "name": "python",
   "nbconvert_exporter": "python",
   "pygments_lexer": "ipython3",
   "version": "3.6.8"
  }
 },
 "nbformat": 4,
 "nbformat_minor": 2
}
